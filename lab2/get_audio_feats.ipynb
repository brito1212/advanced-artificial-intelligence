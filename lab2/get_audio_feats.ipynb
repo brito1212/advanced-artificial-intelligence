{
 "cells": [
  {
   "cell_type": "code",
   "execution_count": 1,
   "metadata": {},
   "outputs": [],
   "source": [
    "import os\n",
    "from pathlib import Path\n",
    "import librosa\n",
    "import pandas as pd\n",
    "import numpy as np\n",
    "import shutil"
   ]
  },
  {
   "cell_type": "code",
   "execution_count": 10,
   "metadata": {},
   "outputs": [],
   "source": [
    "def get_audio_files_path():\n",
    "    lab2_tmp_path = Path(__file__).parent.parent / \"lab2\" / \"tmp\"\n",
    "    lab2_tmp_path.mkdir(parents=True, exist_ok=True)\n",
    "    lab2_audio_files_path = lab2_tmp_path / \"audio_files\"\n",
    "    lab2_audio_files_path.mkdir(parents=True, exist_ok=True)\n",
    "    audio_files_path = Path(__file__).parent.parent / \"lab1\" / \"tmp\" / \"useful_audios\"\n",
    "    destination_path = Path(__file__).parent.parent / \"lab2\" / \"tmp\" / \"audio_files\"\n",
    "    for file in audio_files_path.iterdir():\n",
    "        if file.is_file():\n",
    "            new_file_path = destination_path / file.name\n",
    "            shutil.copy(file, new_file_path)\n",
    "\n",
    "    return destination_path\n",
    "\n",
    "audio_files_path = Path(os.getcwd()) / \"tmp\" / \"audio_files\""
   ]
  },
  {
   "cell_type": "code",
   "execution_count": 11,
   "metadata": {},
   "outputs": [],
   "source": [
    "def extract_features(file_path):\n",
    "    y, sr = librosa.load(file_path)\n",
    "    mfccs = np.mean(librosa.feature.mfcc(y=y, sr=sr, n_mfcc=40).T, axis=0)\n",
    "    chroma = np.mean(librosa.feature.chroma_stft(y=y, sr=sr).T, axis=0)\n",
    "    spectral_contrast = np.mean(librosa.feature.spectral_contrast(y=y, sr=sr).T, axis=0)\n",
    "    tonnetz = np.mean(librosa.feature.tonnetz(y=y, sr=sr).T, axis=0)\n",
    "    spectral_centroid = np.mean(librosa.feature.spectral_centroid(y=y, sr=sr).T, axis=0)\n",
    "    spectral_rolloff = np.mean(librosa.feature.spectral_rolloff(y=y, sr=sr).T, axis=0)\n",
    "    zero_crossing_rate = np.mean(librosa.feature.zero_crossing_rate(y).T, axis=0)\n",
    "    harmonic = np.mean(librosa.effects.harmonic(y).T, axis=0)\n",
    "    percussive = np.mean(librosa.effects.percussive(y).T, axis=0)\n",
    "    mel = np.mean(librosa.feature.melspectrogram(y=y, sr=sr).T, axis=0)\n",
    "    return [\n",
    "        mfccs,\n",
    "        chroma,\n",
    "        spectral_contrast,\n",
    "        tonnetz,\n",
    "        spectral_centroid,\n",
    "        spectral_rolloff,\n",
    "        zero_crossing_rate,\n",
    "        harmonic,\n",
    "        percussive,\n",
    "        mel,\n",
    "    ]"
   ]
  },
  {
   "cell_type": "code",
   "execution_count": 12,
   "metadata": {},
   "outputs": [],
   "source": [
    "def process_files(dir_path: Path):\n",
    "    # Initialize empty lists to hold the features and labels\n",
    "    features, file_names = [], []\n",
    "\n",
    "    # Iterate over all files\n",
    "    for file in dir_path.iterdir():\n",
    "\n",
    "        feature = np.hstack(extract_features(file))\n",
    "\n",
    "        features.append(feature)\n",
    "        file_names.append(file.name)\n",
    "\n",
    "    return features, file_names\n",
    "\n",
    "features, file_names = process_files(audio_files_path)"
   ]
  },
  {
   "cell_type": "code",
   "execution_count": 13,
   "metadata": {},
   "outputs": [
    {
     "name": "stdout",
     "output_type": "stream",
     "text": [
      "      Arquivo           0           1          2          3          4  \\\n",
      "0  a00001.mp3 -357.475494  144.278671  25.227043 -12.069102 -12.000586   \n",
      "1  a00002.mp3 -362.867981  113.480652  55.047539  22.268412   5.548545   \n",
      "2  a00003.mp3 -374.741455  128.402176  23.937555 -14.066549 -12.737453   \n",
      "3  a00004.mp3 -369.259033  116.922211  34.424026   4.118651  -2.764186   \n",
      "4  a00005.mp3 -378.585327  138.650772  18.954666 -19.314791 -16.075703   \n",
      "\n",
      "          5         6          7          8  ...       188       189  \\\n",
      "0 -5.494565 -7.416517  -8.400575 -12.329534  ...  0.000052  0.000049   \n",
      "1  3.088625  2.680373   1.093082  -2.414867  ...  0.000090  0.000085   \n",
      "2 -6.483592 -8.334821  -7.998796 -11.647849  ...  0.000041  0.000042   \n",
      "3  2.279199  1.071293   5.531829  -2.866853  ...  0.000059  0.000053   \n",
      "4 -9.724780 -9.246498 -10.084473 -12.905710  ...  0.000039  0.000038   \n",
      "\n",
      "        190       191       192       193       194       195       196  \\\n",
      "0  0.000046  0.000050  0.000058  0.000053  0.000059  0.000053  0.000034   \n",
      "1  0.000083  0.000080  0.000073  0.000066  0.000070  0.000066  0.000037   \n",
      "2  0.000044  0.000042  0.000041  0.000041  0.000042  0.000042  0.000031   \n",
      "3  0.000057  0.000053  0.000054  0.000053  0.000055  0.000054  0.000028   \n",
      "4  0.000033  0.000035  0.000031  0.000032  0.000031  0.000034  0.000020   \n",
      "\n",
      "        197  \n",
      "0  0.000004  \n",
      "1  0.000003  \n",
      "2  0.000002  \n",
      "3  0.000003  \n",
      "4  0.000002  \n",
      "\n",
      "[5 rows x 199 columns]\n"
     ]
    }
   ],
   "source": [
    "df = pd.DataFrame(features)\n",
    "df[\"Arquivo\"] = file_names\n",
    "\n",
    "# Make 'Arquivo' the first column\n",
    "df = df.set_index(\"Arquivo\").reset_index()\n",
    "\n",
    "print(df.head())"
   ]
  },
  {
   "cell_type": "code",
   "execution_count": 15,
   "metadata": {},
   "outputs": [],
   "source": [
    "from sklearn.pipeline import Pipeline\n",
    "from sklearn.impute import SimpleImputer\n",
    "from sklearn.preprocessing import StandardScaler\n",
    "from sklearn.feature_selection import SelectKBest, f_classif"
   ]
  },
  {
   "cell_type": "code",
   "execution_count": 19,
   "metadata": {},
   "outputs": [
    {
     "name": "stdout",
     "output_type": "stream",
     "text": [
      "      Arquivo         0         1         2         3         4         5  \\\n",
      "0  a00001.mp3 -1.000608  0.807643 -0.514552 -1.656485 -2.003320 -2.329342   \n",
      "1  a00002.mp3 -1.104156 -0.454005  1.646190  1.407403  0.706870 -0.362043   \n",
      "2  a00003.mp3 -1.332155  0.157259 -0.607986 -1.834715 -2.117118 -2.556030   \n",
      "3  a00004.mp3 -1.226880 -0.313021  0.151845 -0.212075 -0.576902 -0.547567   \n",
      "4  a00005.mp3 -1.405967  0.577095 -0.969038 -2.303008 -2.632659 -3.298922   \n",
      "\n",
      "          6         7         8  ...       188       189       190       191  \\\n",
      "0 -2.536283 -2.510274 -2.855687  ... -0.137103 -0.136634 -0.132527 -0.141612   \n",
      "1  0.748761 -0.291258 -0.005078  ... -0.130871 -0.130028 -0.125722 -0.135218   \n",
      "2 -2.835056 -2.416364 -2.659693  ... -0.138922 -0.137921 -0.132899 -0.143141   \n",
      "3  0.225243  0.746241 -0.135030  ... -0.135914 -0.135877 -0.130590 -0.140891   \n",
      "4 -3.131672 -2.903863 -3.021347  ... -0.139370 -0.138653 -0.134904 -0.144635   \n",
      "\n",
      "        192       193       194       195       196       197  \n",
      "0 -0.135466 -0.129783 -0.097740 -0.103452 -0.093731 -0.092024  \n",
      "1 -0.132394 -0.127290 -0.096380 -0.101535 -0.093050 -0.095886  \n",
      "2 -0.138845 -0.132176 -0.099667 -0.104950 -0.094340 -0.097546  \n",
      "3 -0.136246 -0.129740 -0.098208 -0.103210 -0.095054 -0.096414  \n",
      "4 -0.140813 -0.133738 -0.100935 -0.105989 -0.096760 -0.099316  \n",
      "\n",
      "[5 rows x 199 columns]\n"
     ]
    }
   ],
   "source": [
    "pipeline = Pipeline(\n",
    "    [\n",
    "        (\"imputer\", SimpleImputer(strategy=\"mean\")),  # Fill missing values\n",
    "        (\"scaler\", StandardScaler()),  # Standardize features\n",
    "        # (\n",
    "        #     \"selector\",\n",
    "        #     SelectKBest(score_func=f_classif, k=10),\n",
    "        # ),  # Select the 10 best features\n",
    "    ]\n",
    ")\n",
    "\n",
    "X = df[df.columns[1:]]\n",
    "y = df['Arquivo']\n",
    "\n",
    "# Apply the pipeline\n",
    "df[df.columns[1:]] = pipeline.fit_transform(X, y)\n",
    "print(df.head())"
   ]
  },
  {
   "cell_type": "code",
   "execution_count": 21,
   "metadata": {},
   "outputs": [],
   "source": [
    "processed_audio_features_csv_path = (\n",
    "    Path(os.getcwd()) / \"tmp\" / \"processed_audio_features.csv\"\n",
    ")\n",
    "# Save the processed DataFrame to a CSV file\n",
    "df.to_csv(processed_audio_features_csv_path, index=False)"
   ]
  }
 ],
 "metadata": {
  "kernelspec": {
   "display_name": ".venv",
   "language": "python",
   "name": "python3"
  },
  "language_info": {
   "codemirror_mode": {
    "name": "ipython",
    "version": 3
   },
   "file_extension": ".py",
   "mimetype": "text/x-python",
   "name": "python",
   "nbconvert_exporter": "python",
   "pygments_lexer": "ipython3",
   "version": "3.11.2"
  }
 },
 "nbformat": 4,
 "nbformat_minor": 2
}
