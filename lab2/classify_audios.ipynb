{
 "cells": [
  {
   "cell_type": "code",
   "execution_count": 26,
   "metadata": {},
   "outputs": [],
   "source": [
    "import pandas as pd\n",
    "from pathlib import Path\n",
    "import os\n",
    "\n",
    "tutor_audios_path = (\n",
    "    Path(os.getcwd()) / \"tmp\" / \"tutor_audios.csv\"\n",
    ")\n",
    "feature_audios_path = (\n",
    "    Path(os.getcwd()) / \"tmp\" / \"processed_audio_features.csv\"\n",
    ")\n",
    "\n",
    "tutor_audio = pd.read_csv(tutor_audios_path)\n",
    "audio_features = pd.read_csv(feature_audios_path)\n"
   ]
  },
  {
   "cell_type": "code",
   "execution_count": 27,
   "metadata": {},
   "outputs": [],
   "source": [
    "tutor_audio['Classe'] = tutor_audio['Classe'].apply(lambda x: 1 if x == 'valido' else 0 if x == 'invalido' else x)\n",
    "tutor_audio['Arquivo'] = tutor_audio['Arquivo'].apply(lambda x: f'a{int(x[1:]):05}.mp3')\n"
   ]
  },
  {
   "cell_type": "code",
   "execution_count": 28,
   "metadata": {},
   "outputs": [
    {
     "name": "stdout",
     "output_type": "stream",
     "text": [
      "            0         1         2         3         4         5         6  \\\n",
      "0   -1.000608  0.807643 -0.514552 -1.656485 -2.003320 -2.329342 -2.536283   \n",
      "1   -1.104156 -0.454005  1.646190  1.407403  0.706870 -0.362043  0.748761   \n",
      "2   -1.332155  0.157259 -0.607986 -1.834715 -2.117118 -2.556030 -2.835056   \n",
      "3   -1.226880 -0.313021  0.151845 -0.212075 -0.576902 -0.547567  0.225243   \n",
      "4   -1.405967  0.577095 -0.969038 -2.303008 -2.632659 -3.298922 -3.131672   \n",
      "..        ...       ...       ...       ...       ...       ...       ...   \n",
      "362  1.325976  1.519430 -6.351992 -3.814710  0.321874 -1.631150 -0.081034   \n",
      "363  2.573736  3.004308 -5.132667 -2.947372 -0.750753 -2.711130 -2.034386   \n",
      "364 -0.815432 -1.608453 -1.909738  0.001145  2.462421  4.367056  2.554374   \n",
      "365  1.597072  1.495556 -6.109358 -3.551133  0.227179 -1.001191  0.095729   \n",
      "366  3.004694  1.660751 -4.687800 -1.813909 -0.427285 -1.720197 -1.434153   \n",
      "\n",
      "            7         8         9  ...       188       189       190  \\\n",
      "0   -2.510274 -2.855687 -2.807439  ... -0.137103 -0.136634 -0.132527   \n",
      "1   -0.291258 -0.005078 -0.878997  ... -0.130871 -0.130028 -0.125722   \n",
      "2   -2.416364 -2.659693 -2.446360  ... -0.138922 -0.137921 -0.132899   \n",
      "3    0.746241 -0.135030  0.492249  ... -0.135914 -0.135877 -0.130590   \n",
      "4   -2.903863 -3.021347 -2.952530  ... -0.139370 -0.138653 -0.134904   \n",
      "..        ...       ...       ...  ...       ...       ...       ...   \n",
      "362 -0.578794 -0.166408  0.922301  ... -0.127127 -0.127354 -0.122590   \n",
      "363 -2.163490 -2.088126 -1.493355  ...  0.144320  0.108766  0.014880   \n",
      "364 -0.633507  0.986545  1.633774  ... -0.105988 -0.101292 -0.096564   \n",
      "365 -0.280582  0.649612  0.843766  ... -0.117969 -0.114929 -0.108049   \n",
      "366 -1.685258 -1.356782 -0.701662  ...  6.297519  7.191428  6.384277   \n",
      "\n",
      "          191       192       193       194       195       196       197  \n",
      "0   -0.141612 -0.135466 -0.129783 -0.097740 -0.103452 -0.093731 -0.092024  \n",
      "1   -0.135218 -0.132394 -0.127290 -0.096380 -0.101535 -0.093050 -0.095886  \n",
      "2   -0.143141 -0.138845 -0.132176 -0.099667 -0.104950 -0.094340 -0.097546  \n",
      "3   -0.140891 -0.136246 -0.129740 -0.098208 -0.103210 -0.095054 -0.096414  \n",
      "4   -0.144635 -0.140813 -0.133738 -0.100935 -0.105989 -0.096760 -0.099316  \n",
      "..        ...       ...       ...       ...       ...       ...       ...  \n",
      "362 -0.133332 -0.130969 -0.124167 -0.095489 -0.099853 -0.090248 -0.089472  \n",
      "363  0.086391  0.009501 -0.018377 -0.000320  0.006710 -0.014163  0.001790  \n",
      "364 -0.110325 -0.108200 -0.101202 -0.080986 -0.079764 -0.068514 -0.064639  \n",
      "365 -0.119561 -0.117448 -0.112824 -0.085585 -0.086127 -0.078433 -0.076283  \n",
      "366  6.832812  6.488316  5.245245  2.838169  3.248146  2.329708  2.622680  \n",
      "\n",
      "[97 rows x 198 columns]\n",
      "0      1.0\n",
      "1      0.0\n",
      "2      1.0\n",
      "3      1.0\n",
      "4      0.0\n",
      "      ... \n",
      "362    1.0\n",
      "363    0.0\n",
      "364    0.0\n",
      "365    0.0\n",
      "366    0.0\n",
      "Name: Classe, Length: 97, dtype: float64\n"
     ]
    }
   ],
   "source": [
    "merged = pd.merge(audio_features, tutor_audio, on='Arquivo')\n",
    "\n",
    "# Remove rows with NaN in the 'Classe' column\n",
    "merged = merged.dropna(subset=['Classe'])\n",
    "\n",
    "# Split the data into features and target\n",
    "X = merged.drop(['Arquivo', 'Classe'], axis=1)\n",
    "y = merged['Classe']\n",
    "\n",
    "print(X)\n",
    "print(y)"
   ]
  },
  {
   "cell_type": "code",
   "execution_count": 29,
   "metadata": {},
   "outputs": [
    {
     "name": "stdout",
     "output_type": "stream",
     "text": [
      "Accuracy: 0.85\n"
     ]
    }
   ],
   "source": [
    "from sklearn.ensemble import RandomForestClassifier\n",
    "from sklearn.model_selection import train_test_split\n",
    "from sklearn.metrics import accuracy_score\n",
    "\n",
    "X_train, X_test, y_train, y_test = train_test_split(X, y, test_size=0.2, random_state=42)\n",
    "\n",
    "# Initialize the RandomForestClassifier\n",
    "clf = RandomForestClassifier()\n",
    "\n",
    "# Train the classifier\n",
    "clf.fit(X_train, y_train)\n",
    "\n",
    "# Predict the classes of the test set\n",
    "y_pred = clf.predict(X_test)\n",
    "\n",
    "# Print the accuracy score\n",
    "print('Accuracy:', accuracy_score(y_test, y_pred))"
   ]
  }
 ],
 "metadata": {
  "kernelspec": {
   "display_name": ".venv",
   "language": "python",
   "name": "python3"
  },
  "language_info": {
   "codemirror_mode": {
    "name": "ipython",
    "version": 3
   },
   "file_extension": ".py",
   "mimetype": "text/x-python",
   "name": "python",
   "nbconvert_exporter": "python",
   "pygments_lexer": "ipython3",
   "version": "3.11.2"
  }
 },
 "nbformat": 4,
 "nbformat_minor": 2
}
